{
 "cells": [
  {
   "cell_type": "code",
   "execution_count": 1,
   "id": "219b1ea1",
   "metadata": {},
   "outputs": [],
   "source": [
    "# Get Data to pass through SMOTE\n",
    "\n",
    "import pandas as pd\n",
    "\n",
    "df = pd.read_csv(\"./data/curData.csv\")\n",
    "df = df.drop(columns=[\"issue_d\"], axis=1)\n",
    "df['issue_month'] = pd.to_datetime(df['issue_month'])\n",
    "df[\"issue_month\"] = df[\"issue_month\"].dt.month\n",
    "df = df.drop(columns=[\"Unnamed: 0\", \"Unnamed: 0.1\"], axis=1)\n",
    "df[\"purpose\"] = df[\"purpose\"].astype(\"category\")\n",
    "df[\"home_ownership\"] = df[\"home_ownership\"].astype(\"category\")\n",
    "feature_cols = ['loan_amnt', 'term', 'int_rate',\n",
    "       'installment', 'purpose', 'emp_length', 'home_ownership', 'annual_inc',\n",
    "       'dti', 'inq_last_6mths', 'delinq_2yrs', 'open_acc', 'pub_rec',\n",
    "       'revol_bal', 'revol_util', 'total_acc', 'issue_month',\n",
    "       'installment_to_income', 'fico_score', 'credit_age',\n",
    "       'fed_funds_rate', 'unemployment_rate', 'cpi', 'real_gdp',\n",
    "       'debt_service_ratio']\n",
    "\n",
    "target = \"loan_risk\""
   ]
  },
  {
   "cell_type": "code",
   "execution_count": null,
   "id": "b4265187",
   "metadata": {},
   "outputs": [
    {
     "name": "stdout",
     "output_type": "stream",
     "text": [
      "purpose\n",
      "home_ownership\n"
     ]
    }
   ],
   "source": [
    "for col in df.columns:\n",
    "    if df[col].dtype == \"category\":\n",
    "        print(col)"
   ]
  },
  {
   "cell_type": "code",
   "execution_count": 18,
   "id": "2acb92ab",
   "metadata": {},
   "outputs": [
    {
     "name": "stderr",
     "output_type": "stream",
     "text": [
      "C:\\Users\\Jayden Spurgiasz\\AppData\\Local\\Temp\\ipykernel_27464\\2732330225.py:2: SettingWithCopyWarning: \n",
      "A value is trying to be set on a copy of a slice from a DataFrame.\n",
      "Try using .loc[row_indexer,col_indexer] = value instead\n",
      "\n",
      "See the caveats in the documentation: https://pandas.pydata.org/pandas-docs/stable/user_guide/indexing.html#returning-a-view-versus-a-copy\n",
      "  df[\"purpose_codes\"] = df[\"purpose\"].cat.codes\n"
     ]
    }
   ],
   "source": [
    "purpose_cat = df[\"purpose\"].cat.categories\n",
    "df[\"purpose_codes\"] = df[\"purpose\"].cat.codes\n",
    "df = df.drop(columns=[\"purpose\"])\n",
    "\n",
    "home_ownership_cat = df[\"home_ownership\"].cat.categories\n",
    "df[\"home_ownership_codes\"] = df[\"home_ownership\"].cat.codes\n",
    "df = df.drop(columns=[\"home_ownership\"])"
   ]
  },
  {
   "cell_type": "code",
   "execution_count": 19,
   "id": "b5b0f61c",
   "metadata": {},
   "outputs": [],
   "source": [
    "df = df.dropna()"
   ]
  },
  {
   "cell_type": "code",
   "execution_count": 21,
   "id": "692de80d",
   "metadata": {},
   "outputs": [
    {
     "data": {
      "text/plain": [
       "loan_risk\n",
       "0    1966639\n",
       "1    1966639\n",
       "Name: count, dtype: int64"
      ]
     },
     "execution_count": 21,
     "metadata": {},
     "output_type": "execute_result"
    }
   ],
   "source": [
    "from imblearn.over_sampling import SMOTE\n",
    "\n",
    "smote = SMOTE(sampling_strategy='minority')\n",
    "\n",
    "smote_cols = ['loan_amnt', 'term', 'int_rate',\n",
    "       'installment', 'purpose_codes', 'emp_length', 'home_ownership_codes', 'annual_inc',\n",
    "       'dti', 'inq_last_6mths', 'delinq_2yrs', 'open_acc', 'pub_rec',\n",
    "       'revol_bal', 'revol_util', 'total_acc', 'issue_month',\n",
    "       'installment_to_income', 'fico_score', 'credit_age',\n",
    "       'fed_funds_rate', 'unemployment_rate', 'cpi', 'real_gdp',\n",
    "       'debt_service_ratio']\n",
    "\n",
    "X = df[smote_cols]\n",
    "y = df[target]\n",
    "\n",
    "X, y = smote.fit_resample(X, y)\n",
    "y.value_counts()"
   ]
  },
  {
   "cell_type": "code",
   "execution_count": 22,
   "id": "e9b9c758",
   "metadata": {},
   "outputs": [],
   "source": [
    "smote_df = X\n",
    "smote_df[target] = y"
   ]
  },
  {
   "cell_type": "code",
   "execution_count": 23,
   "id": "847890eb",
   "metadata": {},
   "outputs": [],
   "source": [
    "smote_df[\"purpose\"] = pd.Categorical.from_codes(smote_df[\"purpose_codes\"], categories=purpose_cat)\n",
    "smote_df[\"home_ownership\"] = pd.Categorical.from_codes(smote_df[\"home_ownership_codes\"], categories=home_ownership_cat)"
   ]
  },
  {
   "cell_type": "code",
   "execution_count": 25,
   "id": "462629ff",
   "metadata": {},
   "outputs": [
    {
     "data": {
      "text/plain": [
       "0          debt_consolidation\n",
       "1              small_business\n",
       "2            home_improvement\n",
       "3          debt_consolidation\n",
       "4              major_purchase\n",
       "                  ...        \n",
       "3933273                 other\n",
       "3933274    debt_consolidation\n",
       "3933275    debt_consolidation\n",
       "3933276    debt_consolidation\n",
       "3933277    debt_consolidation\n",
       "Name: purpose, Length: 3933278, dtype: category\n",
       "Categories (14, object): ['car', 'credit_card', 'debt_consolidation', 'educational', ..., 'renewable_energy', 'small_business', 'vacation', 'wedding']"
      ]
     },
     "execution_count": 25,
     "metadata": {},
     "output_type": "execute_result"
    }
   ],
   "source": [
    "smote_df[\"purpose\"]"
   ]
  },
  {
   "cell_type": "code",
   "execution_count": 26,
   "id": "79398f62",
   "metadata": {},
   "outputs": [],
   "source": [
    "smote_df = smote_df.drop(columns=[\"purpose_codes\", \"home_ownership_codes\"])"
   ]
  },
  {
   "cell_type": "code",
   "execution_count": 27,
   "id": "59fc7c5a",
   "metadata": {},
   "outputs": [],
   "source": [
    "smote_df.to_csv(\"./data/smoteData.csv\")"
   ]
  }
 ],
 "metadata": {
  "kernelspec": {
   "display_name": "default-prediction",
   "language": "python",
   "name": "python3"
  },
  "language_info": {
   "codemirror_mode": {
    "name": "ipython",
    "version": 3
   },
   "file_extension": ".py",
   "mimetype": "text/x-python",
   "name": "python",
   "nbconvert_exporter": "python",
   "pygments_lexer": "ipython3",
   "version": "3.13.5"
  }
 },
 "nbformat": 4,
 "nbformat_minor": 5
}
